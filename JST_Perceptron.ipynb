{
  "nbformat": 4,
  "nbformat_minor": 0,
  "metadata": {
    "colab": {
      "provenance": [],
      "include_colab_link": true
    },
    "kernelspec": {
      "name": "python3",
      "display_name": "Python 3"
    },
    "language_info": {
      "name": "python"
    }
  },
  "cells": [
    {
      "cell_type": "markdown",
      "metadata": {
        "id": "view-in-github",
        "colab_type": "text"
      },
      "source": [
        "<a href=\"https://colab.research.google.com/github/MilizCom/Neural-Network/blob/main/JST_Perceptron.ipynb\" target=\"_parent\"><img src=\"https://colab.research.google.com/assets/colab-badge.svg\" alt=\"Open In Colab\"/></a>"
      ]
    },
    {
      "cell_type": "code",
      "execution_count": 1,
      "metadata": {
        "id": "uf9-wDqNuNZ_"
      },
      "outputs": [],
      "source": [
        "import numpy as np"
      ]
    },
    {
      "cell_type": "code",
      "source": [
        "# Fungsi aktivasi step function\n",
        "def step_function(x):\n",
        "    return np.where(x >= 0, 1, 0)"
      ],
      "metadata": {
        "id": "2_0jO9YRvh5X"
      },
      "execution_count": 2,
      "outputs": []
    },
    {
      "cell_type": "code",
      "source": [
        "# Definisi kelas Perceptron\n",
        "class Perceptron:\n",
        "    def __init__(self, input_size, learning_rate=0.1, epochs=100):\n",
        "        self.weights = np.zeros(input_size + 1)  # Tambah 1 untuk bias\n",
        "        self.learning_rate = learning_rate\n",
        "        self.epochs = epochs\n",
        "\n",
        "    def predict(self, inputs):\n",
        "        # Hitung prediksi: input * bobot + bias\n",
        "        summation = np.dot(inputs, self.weights[1:]) + self.weights[0]\n",
        "        return step_function(summation)\n",
        "\n",
        "    def train(self, training_inputs, labels):\n",
        "        for _ in range(self.epochs):\n",
        "            for inputs, label in zip(training_inputs, labels):\n",
        "                prediction = self.predict(inputs)\n",
        "                self.weights[1:] += self.learning_rate * (label - prediction) * inputs\n",
        "                self.weights[0] += self.learning_rate * (label - prediction)  # Update bias"
      ],
      "metadata": {
        "id": "2HXL_s6CvmUn"
      },
      "execution_count": 3,
      "outputs": []
    },
    {
      "cell_type": "code",
      "source": [
        "# Contoh data\n",
        "training_inputs = np.array([[1.2, 0.3], [0.8, 0.6], [0.4, 1], [0.5, 1.5]])\n",
        "labels = np.array([1, 1, 0, 0])"
      ],
      "metadata": {
        "id": "zuV0uPxavipk"
      },
      "execution_count": 4,
      "outputs": []
    },
    {
      "cell_type": "code",
      "source": [
        "# Inisialisasi dan training perceptron\n",
        "perceptron = Perceptron(input_size=2)\n",
        "perceptron.train(training_inputs, labels)"
      ],
      "metadata": {
        "id": "uSazPNmNvuTB"
      },
      "execution_count": 5,
      "outputs": []
    },
    {
      "cell_type": "code",
      "source": [
        "# Prediksi\n",
        "inputs = np.array([0.8, 1.2])  # Input baru untuk diuji\n",
        "output = perceptron.predict(inputs)\n",
        "print(f\"Prediksi untuk input {inputs}: {output}\")"
      ],
      "metadata": {
        "colab": {
          "base_uri": "https://localhost:8080/"
        },
        "id": "gdCrkZNtvwY1",
        "outputId": "b8292b70-424e-4f5e-f0cd-600d949ebaf1"
      },
      "execution_count": 6,
      "outputs": [
        {
          "output_type": "stream",
          "name": "stdout",
          "text": [
            "Prediksi untuk input [0.8 1.2]: 0\n"
          ]
        }
      ]
    }
  ]
}