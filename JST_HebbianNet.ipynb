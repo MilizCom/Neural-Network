{
  "nbformat": 4,
  "nbformat_minor": 0,
  "metadata": {
    "colab": {
      "provenance": [],
      "include_colab_link": true
    },
    "kernelspec": {
      "name": "python3",
      "display_name": "Python 3"
    },
    "language_info": {
      "name": "python"
    }
  },
  "cells": [
    {
      "cell_type": "markdown",
      "metadata": {
        "id": "view-in-github",
        "colab_type": "text"
      },
      "source": [
        "<a href=\"https://colab.research.google.com/github/MilizCom/Neural-Network/blob/main/JST_HebbianNet.ipynb\" target=\"_parent\"><img src=\"https://colab.research.google.com/assets/colab-badge.svg\" alt=\"Open In Colab\"/></a>"
      ]
    },
    {
      "cell_type": "markdown",
      "source": [
        "Import Library"
      ],
      "metadata": {
        "id": "aYqlgy54ddkH"
      }
    },
    {
      "cell_type": "code",
      "source": [
        "import numpy as np\n",
        "import matplotlib.pyplot as plt"
      ],
      "metadata": {
        "id": "Huf0NrVSdia8"
      },
      "execution_count": 2,
      "outputs": []
    },
    {
      "cell_type": "markdown",
      "source": [
        "Algoritma Hebbian"
      ],
      "metadata": {
        "id": "omAS1yu5doH4"
      }
    },
    {
      "cell_type": "code",
      "source": [
        "def HebbNet(s,t):\n",
        "    # Step 0\n",
        "    w = np.zeros(s.shape[1])\n",
        "    b = 0\n",
        "    # Step 1\n",
        "    for i in range(s.shape[0]):\n",
        "        # Step 2\n",
        "        x = s[i,:]\n",
        "        # Step 3\n",
        "        y = t[i]\n",
        "        # Step 4\n",
        "        w += x*y\n",
        "        b += y\n",
        "    return w,b"
      ],
      "metadata": {
        "id": "BvzlOXnbdr8r"
      },
      "execution_count": 3,
      "outputs": []
    },
    {
      "cell_type": "markdown",
      "source": [
        "Plotting Batas Keputusan"
      ],
      "metadata": {
        "id": "8monB-aWdz9h"
      }
    },
    {
      "cell_type": "code",
      "source": [
        "def PlotHebbNet(x_unit,target,weight,bias,title=\"\"):\n",
        "    # Plot titik\n",
        "    fig, ax = plt.subplots()\n",
        "    ax.scatter(x_unit[:,0], x_unit[:,1], c=target)\n",
        "    plt.plot()\n",
        "\n",
        "    # Plot persamaan garis\n",
        "    x = np.array([-2,2])\n",
        "    m = -weight[0]/weight[1]\n",
        "    n = -bias/weight[1]\n",
        "    y = m*x + n\n",
        "    plt.plot(x,y,\"g-\")\n",
        "\n",
        "    plt.title(\"Hebb Net \"+title)\n",
        "    plt.xlim([-2,2])\n",
        "    plt.ylim([-2,2])\n",
        "    plt.xticks([])\n",
        "    plt.yticks([])"
      ],
      "metadata": {
        "id": "4YpsB2gydvJQ"
      },
      "execution_count": 4,
      "outputs": []
    },
    {
      "cell_type": "markdown",
      "source": [],
      "metadata": {
        "id": "ipfD61bmd9gy"
      }
    },
    {
      "cell_type": "code",
      "source": [
        "#gerbang and\n",
        "# Input\n",
        "x1 = np.array([[1,1],\n",
        "                [1,-1],\n",
        "                [-1,1],\n",
        "                [-1,-1]])\n",
        "# Target\n",
        "t1 = np.array([1,-1,-1,-1])\n",
        "\n",
        "# Perhitungan bobot dan bias dengan metode hebb net\n",
        "w1,b1 = HebbNet(x1,t1)"
      ],
      "metadata": {
        "id": "DmyhTVb0d70s"
      },
      "execution_count": 5,
      "outputs": []
    },
    {
      "cell_type": "code",
      "source": [
        "b1"
      ],
      "metadata": {
        "colab": {
          "base_uri": "https://localhost:8080/"
        },
        "id": "Hw4nAjpYLdnN",
        "outputId": "196cd428-2243-49af-88bb-4a84ca09e9ad"
      },
      "execution_count": 6,
      "outputs": [
        {
          "output_type": "execute_result",
          "data": {
            "text/plain": [
              "-2"
            ]
          },
          "metadata": {},
          "execution_count": 6
        }
      ]
    },
    {
      "cell_type": "code",
      "source": [
        "w1"
      ],
      "metadata": {
        "colab": {
          "base_uri": "https://localhost:8080/"
        },
        "id": "IslmCOqjpAks",
        "outputId": "84294c88-27e8-4e70-8afa-a2e50ab7d49f"
      },
      "execution_count": 7,
      "outputs": [
        {
          "output_type": "execute_result",
          "data": {
            "text/plain": [
              "array([2., 2.])"
            ]
          },
          "metadata": {},
          "execution_count": 7
        }
      ]
    },
    {
      "cell_type": "code",
      "source": [
        "PlotHebbNet(x1,t1,w1,b1,title=\"AND\")"
      ],
      "metadata": {
        "colab": {
          "base_uri": "https://localhost:8080/",
          "height": 428
        },
        "id": "foCDZyUnd_yl",
        "outputId": "65eac579-03b7-4a0b-88ec-c36b1c568abe"
      },
      "execution_count": 8,
      "outputs": [
        {
          "output_type": "display_data",
          "data": {
            "text/plain": [
              "<Figure size 640x480 with 1 Axes>"
            ],
            "image/png": "[encoded data removed]"
          },
          "metadata": {}
        }
      ]
    },
    {
      "cell_type": "markdown",
      "source": [
        "Tugas :\n",
        "1. Carilah Nilai Bobot dan Bias dari Gerbang OR (input dan output Bipolar) menggunakan Hebbian Network\n",
        "2. Plotting Batas Keputusan yang dihasilkan\n",
        "3. Berikan penjelasan/Analisis Detail pada Google Colab yang dikumpulkan\n",
        "\n",
        "File yang dikumpulkan dalam berisi link Google Colab dari Tugas yang telah dikerjakan\n"
      ],
      "metadata": {
        "id": "MX3Dn85ahWP1"
      }
    },
    {
      "cell_type": "code",
      "source": [
        "#gerbang or\n",
        "# Input\n",
        "x2 = np.array([[1,1],\n",
        "                [1,-1],\n",
        "                [-1,1],\n",
        "                [-1,-1]])\n",
        "# Target\n",
        "t2 = np.array([1,1,1,-1])\n",
        "\n",
        "# Perhitungan bobot dan bias dengan metode hebb net\n",
        "w2,b2 = HebbNet(x2,t2)"
      ],
      "metadata": {
        "id": "J_O80ii4puQY"
      },
      "execution_count": 9,
      "outputs": []
    },
    {
      "cell_type": "code",
      "source": [
        "b2"
      ],
      "metadata": {
        "colab": {
          "base_uri": "https://localhost:8080/"
        },
        "id": "PQLQETLD6G3e",
        "outputId": "ce69f65b-c87e-4d08-e8b5-66814bab791e"
      },
      "execution_count": 10,
      "outputs": [
        {
          "output_type": "execute_result",
          "data": {
            "text/plain": [
              "2"
            ]
          },
          "metadata": {},
          "execution_count": 10
        }
      ]
    },
    {
      "cell_type": "code",
      "source": [
        "w2"
      ],
      "metadata": {
        "colab": {
          "base_uri": "https://localhost:8080/"
        },
        "id": "awlkBFno6L00",
        "outputId": "c9ee4465-00a3-4489-c500-b5aafce10e65"
      },
      "execution_count": 12,
      "outputs": [
        {
          "output_type": "execute_result",
          "data": {
            "text/plain": [
              "array([2., 2.])"
            ]
          },
          "metadata": {},
          "execution_count": 12
        }
      ]
    },
    {
      "cell_type": "code",
      "source": [
        "PlotHebbNet(x2,t2,w2,b2,title=\"OR\")"
      ],
      "metadata": {
        "colab": {
          "base_uri": "https://localhost:8080/",
          "height": 428
        },
        "id": "Ndk4eu4S6P1n",
        "outputId": "4d95bf59-a8b7-4513-8511-dceadfc5e5d5"
      },
      "execution_count": 13,
      "outputs": [
        {
          "output_type": "display_data",
          "data": {
            "text/plain": [
              "<Figure size 640x480 with 1 Axes>"
            ],
            "image/png": "[encoded data removed]"
          },
          "metadata": {}
        }
      ]
    },
    {
      "cell_type": "markdown",
      "source": [],
      "metadata": {
        "id": "Iu5Yo862M3kS"
      }
    }
  ]
}